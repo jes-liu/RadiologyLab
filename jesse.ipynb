{
 "cells": [
  {
   "cell_type": "code",
   "execution_count": 1,
   "metadata": {},
   "outputs": [
    {
     "name": "stderr",
     "output_type": "stream",
     "text": [
      "Using TensorFlow backend.\n"
     ]
    }
   ],
   "source": [
    "import os\n",
    "import csv\n",
    "import tensorflow as tf  # 2.0\n",
    "import nibabel as nib\n",
    "import numpy as np\n",
    "import pandas as pd\n",
    "from sklearn.model_selection import train_test_split\n",
    "from sklearn.preprocessing import OneHotEncoder, LabelEncoder\n",
    "from keras.models import Model, Sequential\n",
    "from keras.layers import Conv3D, MaxPooling3D, Dense, Dropout, Activation, Flatten, BatchNormalization\n",
    "from keras.layers import Input, concatenate\n",
    "from keras import optimizers\n",
    "from keras.utils import to_categorical\n",
    "from sklearn.metrics import accuracy_score\n",
    "from sklearn.metrics import confusion_matrix\n",
    "import seaborn as sns\n",
    "import matplotlib.pyplot as plt\n",
    "from augmentedvolumetricimagegenerator.generator import customImageDataGenerator\n",
    "from keras.callbacks import EarlyStopping, ModelCheckpoint\n",
    "import math\n",
    "import random\n",
    "from sklearn.utils import shuffle\n",
    "\n",
    "\n",
    "# Administrative items\n",
    "os.environ['TF_CPP_MIN_LOG_LEVEL'] = '2'\n",
    "\n",
    "# Where the file is located\n",
    "path = r'C:\\Users\\jesse\\OneDrive\\Desktop\\Research\\PD\\preprocessed_files\\PD'\n",
    "folder = os.listdir(path)\n",
    "folder = sorted(folder)"
   ]
  },
  {
   "cell_type": "code",
   "execution_count": 2,
   "metadata": {},
   "outputs": [],
   "source": [
    "# def generator():\n",
    "    \n",
    "#     num_batches = 8\n",
    "#     batches = 0\n",
    "\n",
    "#     for i in range(num_batches):\n",
    "#         train = [1, 2, 3, 4, 5, 6, 7, 8]\n",
    "        \n",
    "#         history = train[i]*train[i]\n",
    "        \n",
    "#         batches += 1\n",
    "#         yield history\n",
    "#         if batches >= num_batches:\n",
    "#             break\n",
    "\n",
    "# history = generator()    \n",
    "# for i in range(8):\n",
    "#     print(next(history))"
   ]
  },
  {
   "cell_type": "code",
   "execution_count": 3,
   "metadata": {},
   "outputs": [
    {
     "name": "stdout",
     "output_type": "stream",
     "text": [
      "388\n"
     ]
    }
   ],
   "source": [
    "csv_path = r'C:\\Users\\jesse\\OneDrive\\Desktop\\Research\\PD\\Montreal_Cognitive_Assessment__MoCA_.csv'\n",
    "\n",
    "csv_read = pd.read_csv(csv_path)\n",
    "patno = csv_read['PATNO']\n",
    "moca = csv_read['MCATOT']\n",
    "\n",
    "scores, hold = [], []\n",
    "count = 0\n",
    "for i in range(len(folder)):\n",
    "    for j in range(len(patno)):\n",
    "        if str(folder[i][5:9]) == str(patno[j]):\n",
    "            count += 1\n",
    "            hold.append(moca[j])\n",
    "    scores.append(hold[count-1])\n",
    "print(len(scores))"
   ]
  },
  {
   "cell_type": "code",
   "execution_count": 4,
   "metadata": {},
   "outputs": [
    {
     "data": {
      "text/plain": [
       "<function matplotlib.pyplot.show(*args, **kw)>"
      ]
     },
     "execution_count": 4,
     "metadata": {},
     "output_type": "execute_result"
    },
    {
     "data": {
      "image/png": "[encoded data removed]",
      "text/plain": [
       "<Figure size 432x288 with 1 Axes>"
      ]
     },
     "metadata": {
      "needs_background": "light"
     },
     "output_type": "display_data"
    }
   ],
   "source": [
    "y = [0, 0, 0, 0, 0, 0]\n",
    "for i in range(len(scores)):\n",
    "    if scores[i] <= 5.:\n",
    "        y[0] += 1\n",
    "    elif scores[i] <= 10.:\n",
    "        y[1] += 1\n",
    "    elif scores[i] <= 15.:\n",
    "        y[2] += 1\n",
    "    elif scores[i] <= 20.:\n",
    "        y[3] += 1\n",
    "    elif scores[i] <= 25.:\n",
    "        y[4] += 1\n",
    "    elif scores[i] <= 30.:\n",
    "        y[5] += 1\n",
    "\n",
    "x = ['0-5', '6-10', '11-15', '16-20', '21-25', '26-30']        \n",
    "plt.bar(x, y)\n",
    "plt.xlabel('Range of scores')\n",
    "plt.ylabel('Number of scores')\n",
    "plt.show"
   ]
  },
  {
   "cell_type": "code",
   "execution_count": 5,
   "metadata": {},
   "outputs": [],
   "source": [
    "img = []\n",
    "for i in range(len(scores)):\n",
    "    image = os.path.join(path, folder[i])\n",
    "    image = nib.load(image)\n",
    "    image = image.get_fdata()\n",
    "    image = np.expand_dims(image, axis=3)\n",
    "    img.append(image)"
   ]
  },
  {
   "cell_type": "code",
   "execution_count": 6,
   "metadata": {},
   "outputs": [],
   "source": [
    "# x = np.asarray(img)\n",
    "# y = np.asarray(scores)\n",
    "\n",
    "# def create_batch(x, y, batch_size):\n",
    "\n",
    "#     x, y = shuffle(x, y)\n",
    "#     x_split, x_val, y_split, y_val = train_test_split(x, y, test_size=.05, shuffle=True)\n",
    "#     x_batch, x_test, y_batch, y_test = train_test_split(x_split, y_split, test_size=.05, shuffle=True)\n",
    "#     #print(x_batch.shape, x_val.shape, y_batch.shape, y_val.shape)\n",
    "#     #x_split, x_test, y_split, y_test = train_test_split(x, y, test_size=.2, shuffle=True)\n",
    "#     #x_train, x_val, y_train, y_val = train_test_split(x_split, y_split, test_size=.25, shuffle=True)\n",
    "#     #print(x_train.shape, x_val.shape, x_test.shape, y_train.shape, y_val.shape, y_test.shape)\n",
    "    \n",
    "#     x_train, y_train = [], []\n",
    "#     num_batches = len(x_batch)//batch_size\n",
    "#     for i in range(num_batches):\n",
    "#         x_train.append([x_batch[0:batch_size]])\n",
    "#         y_train.append([y_batch[0:batch_size]])\n",
    "    \n",
    "#     return x_train, y_train, x_val, y_val, x_batch, y_batch, x_test, y_test, num_batches"
   ]
  },
  {
   "cell_type": "code",
   "execution_count": 7,
   "metadata": {},
   "outputs": [
    {
     "name": "stdout",
     "output_type": "stream",
     "text": [
      "(349, 96, 96, 96, 1) (19, 96, 96, 96, 1) (20, 96, 96, 96, 1) (349,) (19,) (20,)\n"
     ]
    }
   ],
   "source": [
    "x = np.asarray(img)\n",
    "y = np.asarray(scores)\n",
    "x_split, x_test, y_split, y_test = train_test_split(x, y, test_size=.05, shuffle=True)\n",
    "x_train, x_val, y_train, y_val = train_test_split(x_split, y_split, test_size=.05, shuffle=True)\n",
    "print(x_train.shape, x_val.shape, x_test.shape, y_train.shape, y_val.shape, y_test.shape)"
   ]
  },
  {
   "cell_type": "code",
   "execution_count": 8,
   "metadata": {},
   "outputs": [],
   "source": [
    "batch_size = 2\n",
    "input_size = (96, 96, 96, 1)\n",
    "\n",
    "def build_model(input_size):\n",
    "    model = Sequential()\n",
    "\n",
    "    model.add(Conv3D(32, [3, 3, 3], padding='same', activation='relu',\n",
    "                     input_shape=input_size))\n",
    "    model.add(BatchNormalization())\n",
    "    model.add(Conv3D(32, [3, 3, 3], padding='same', activation='relu'))\n",
    "    model.add(BatchNormalization())\n",
    "    model.add(MaxPooling3D(pool_size=(2, 2, 2), padding='same'))\n",
    "\n",
    "    model.add(Conv3D(64, [3, 3, 3], padding='same', activation='relu'))\n",
    "    model.add(BatchNormalization())\n",
    "    model.add(Conv3D(64, [3, 3, 3], padding='same', activation='relu'))\n",
    "    model.add(BatchNormalization())\n",
    "    model.add(MaxPooling3D(pool_size=(2, 2, 2), padding='same'))\n",
    "    model.add(Dropout(0.25))\n",
    "\n",
    "    model.add(Conv3D(128, [3, 3, 3], padding='same', activation='relu'))\n",
    "    model.add(BatchNormalization())\n",
    "    model.add(Conv3D(128, [3, 3, 3], padding='same', activation='relu'))\n",
    "    model.add(BatchNormalization())\n",
    "    model.add(Conv3D(128, [3, 3, 3], padding='same', activation='relu'))\n",
    "    model.add(BatchNormalization())\n",
    "    model.add(MaxPooling3D(pool_size=(2, 2, 2), padding='same'))\n",
    "\n",
    "    model.add(Conv3D(256, [3, 3, 3], padding='same', activation='relu'))\n",
    "    model.add(BatchNormalization())\n",
    "    model.add(Conv3D(256, [3, 3, 3], padding='same', activation='relu'))\n",
    "    model.add(BatchNormalization())\n",
    "    model.add(Conv3D(256, [3, 3, 3], padding='same', activation='relu'))\n",
    "    model.add(BatchNormalization())\n",
    "    model.add(MaxPooling3D(pool_size=(2, 2, 2), padding='same'))\n",
    "    #model.add(Dropout(0.5))\n",
    "\n",
    "    model.add(Flatten())\n",
    "    model.add(Dense(1024, activation='relu'))\n",
    "    model.add(BatchNormalization())\n",
    "    model.add(Dense(1024, activation='relu'))\n",
    "    model.add(BatchNormalization())\n",
    "    model.add(Dropout(0.5))\n",
    "    model.add(Dense(1, activation='linear'))\n",
    "\n",
    "    opt = optimizers.Adam(lr=1e-5)\n",
    "    model.compile(loss='msle', optimizer=opt, metrics=['accuracy'])\n",
    "    \n",
    "    return model"
   ]
  },
  {
   "cell_type": "code",
   "execution_count": 9,
   "metadata": {
    "scrolled": true
   },
   "outputs": [],
   "source": [
    "# #def augmentation(batch_size, epochs):\n",
    "# epochs = 1\n",
    "\n",
    "# model = build_model(input_size)\n",
    "# x_train, y_train, x_val, y_val, x_batch, y_batch, x_test, y_test, num_batches = create_batch(x, y, batch_size)\n",
    "\n",
    "# train_datagen = customImageDataGenerator(shear_range=0.2,\n",
    "#                                          zoom_range=0.2,\n",
    "#                                          horizontal_flip=True)\n",
    "# val_datagen = customImageDataGenerator()\n",
    "\n",
    "\n",
    "# validation_set = val_datagen.flow(x_val, y_val, batch_size=batch_size, shuffle=False)\n",
    "\n",
    "\n",
    "# import psutil\n",
    "# pid = os.getpid()\n",
    "# py = psutil.Process(pid)\n",
    "# memoryUse = py.memory_info()[0]/2.**30  # memory use in GB\n",
    "# print('psutil memory use:', memoryUse)\n",
    "\n",
    "\n",
    "# def generator(batch_size, epochs):\n",
    "    \n",
    "#     for e in range(epochs):\n",
    "        \n",
    "#         print('Epoch', e+1)\n",
    "#         batches = 0\n",
    "#         images_fitted = 0\n",
    "        \n",
    "#         for i in range(num_batches):\n",
    "#             training_set = train_datagen.flow(x_train[i][0], y_train[i][0], batch_size=batch_size, shuffle=False)\n",
    "\n",
    "#             images_fitted += len(x_train[i][0])\n",
    "#             total_images = len(x_batch)\n",
    "#             print('number of images used: %s/%s' % (images_fitted, total_images))\n",
    "            \n",
    "#             history = model.fit_generator(training_set,\n",
    "#                                           steps_per_epoch = 1,\n",
    "#                                           #callbacks = [earlystop], \n",
    "#                                           validation_data = validation_set,\n",
    "#                                           validation_steps = 1)\n",
    "#             model.load_weights('jesse_weights_13layers.h5')\n",
    "#             batches += 1\n",
    "#             yield history\n",
    "\n",
    "#             if batches >= num_batches:\n",
    "#                 break\n",
    "    \n",
    "#     return model\n",
    "    \n",
    "# def train_load_weights():\n",
    "#     history = generator(batch_size, epochs)\n",
    "#     for e in range(epochs):\n",
    "#         for i in range(num_batches):\n",
    "#             print(next(history))\n",
    "#     model.save_weights('jesse_weights_13layers.h5')"
   ]
  },
  {
   "cell_type": "code",
   "execution_count": 10,
   "metadata": {
    "scrolled": true
   },
   "outputs": [],
   "source": [
    "# for i in range(1):\n",
    "#     print('Run', i+1)\n",
    "#     train_load_weights()"
   ]
  },
  {
   "cell_type": "code",
   "execution_count": 11,
   "metadata": {},
   "outputs": [
    {
     "name": "stdout",
     "output_type": "stream",
     "text": [
      "memory use: 9.670921325683594\n",
      "Epoch 1/1\n",
      "174/174 [==============================] - 5513s 32s/step - loss: 7.4593 - accuracy: 0.0000e+00 - val_loss: 3.9744 - val_accuracy: 0.0000e+00\n"
     ]
    }
   ],
   "source": [
    "def augmentation(batch_size):\n",
    "\n",
    "    model = build_model(input_size)\n",
    "    \n",
    "    train_datagen = customImageDataGenerator(shear_range=0.2,\n",
    "                                             zoom_range=0.2,\n",
    "                                             horizontal_flip=True)\n",
    "    val_datagen = customImageDataGenerator()\n",
    "\n",
    "\n",
    "    training_set = train_datagen.flow(x_train, y_train, batch_size=batch_size, shuffle=True)\n",
    "    validation_set = val_datagen.flow(x_val, y_val, batch_size=batch_size, shuffle=False)\n",
    "\n",
    "\n",
    "#     weights_path = \"weights\"\n",
    "#     num_weights = len(os.listdir(weights_path))\n",
    "\n",
    "#     for i in range(num_weights+1):\n",
    "#         weights = weights_path + '_%s' % (i+1) + '.h5'\n",
    "#         if os.path.exists(weights) == False:\n",
    "#             filepath = os.path.join(weights_path, weights)\n",
    "#             break\n",
    "\n",
    "#     checkpoint = ModelCheckpoint(filepath=filepath,\n",
    "#                                  monitor = 'accuracy',\n",
    "#                                  verbose=1,\n",
    "#                                  save_best_only=True)\n",
    "\n",
    "    #earlystop = EarlyStopping(monitor='loss', patience=10)\n",
    "\n",
    "\n",
    "    import psutil\n",
    "    pid = os.getpid()\n",
    "    py = psutil.Process(pid)\n",
    "    memoryUse = py.memory_info()[0]/2.**30  # memory use in GB\n",
    "    print('memory use:', memoryUse)\n",
    "\n",
    "\n",
    "    history = model.fit_generator(\n",
    "                                  training_set,\n",
    "                                  steps_per_epoch = len(x_train)//batch_size,\n",
    "                                  epochs = 1,\n",
    "                                  #callbacks = [earlystop, checkpoint],\n",
    "                                  validation_data = validation_set,\n",
    "                                  validation_steps = len(x_val)//batch_size\n",
    "                                  )\n",
    "    #model.load_weights('jesse_weights_nogen.h5')\n",
    "\n",
    "    return model, history\n",
    "\n",
    "model, history = augmentation(batch_size)\n",
    "model.save_weights('jesse_weights_25layers.h5')"
   ]
  },
  {
   "cell_type": "code",
   "execution_count": 12,
   "metadata": {},
   "outputs": [
    {
     "name": "stdout",
     "output_type": "stream",
     "text": [
      "Predicted score: [3.2687185] True score: 27.0\n",
      "Predicted score: [2.7948048] True score: 28.0\n",
      "Predicted score: [3.379928] True score: 16.0\n",
      "Predicted score: [3.14901] True score: 30.0\n",
      "Predicted score: [3.118283] True score: 26.0\n",
      "Predicted score: [3.1903248] True score: 19.0\n",
      "Predicted score: [3.1342967] True score: 30.0\n",
      "Predicted score: [3.3406675] True score: 26.0\n",
      "Predicted score: [3.379216] True score: 26.0\n",
      "Predicted score: [3.0711596] True score: 29.0\n",
      "Predicted score: [2.730213] True score: 30.0\n",
      "Predicted score: [3.2807553] True score: 29.0\n",
      "Predicted score: [2.7042024] True score: 29.0\n",
      "Predicted score: [2.7608876] True score: 21.0\n",
      "Predicted score: [3.0992157] True score: 24.0\n",
      "Predicted score: [2.9706674] True score: 24.0\n",
      "Predicted score: [2.7927585] True score: 29.0\n",
      "Predicted score: [2.7999232] True score: 26.0\n",
      "Predicted score: [3.0408382] True score: 29.0\n",
      "Predicted score: [3.40327] True score: 30.0\n"
     ]
    },
    {
     "data": {
      "text/plain": [
       "0.0"
      ]
     },
     "execution_count": 12,
     "metadata": {},
     "output_type": "execute_result"
    }
   ],
   "source": [
    "def accuracy_score(y_pred, y_test):\n",
    "    count = 0\n",
    "    for i in range(len(y_test)):\n",
    "        error = 1.\n",
    "        if (y_pred[i] < y_test[i] + error) and (y_pred[i] > y_test[i] - error):\n",
    "            count += 1\n",
    "    accuracy = count/len(y_test)\n",
    "    return accuracy\n",
    "\n",
    "\n",
    "y_pred = model.predict(x_test, batch_size=batch_size)\n",
    "\n",
    "for i in range(len(y_pred)):\n",
    "    print('Predicted score:', y_pred[i], 'True score:', y_test[i])\n",
    "\n",
    "accuracy_score(y_pred, y_test)"
   ]
  },
  {
   "cell_type": "code",
   "execution_count": 13,
   "metadata": {},
   "outputs": [
    {
     "name": "stdout",
     "output_type": "stream",
     "text": [
      "2.7042024 3.40327\n"
     ]
    }
   ],
   "source": [
    "print(y_pred.min(), y_pred.max())"
   ]
  },
  {
   "cell_type": "code",
   "execution_count": 14,
   "metadata": {},
   "outputs": [
    {
     "data": {
      "text/plain": [
       "<function matplotlib.pyplot.show(*args, **kw)>"
      ]
     },
     "execution_count": 14,
     "metadata": {},
     "output_type": "execute_result"
    },
    {
     "data": {
      "image/png": "[encoded data removed]",
      "text/plain": [
       "<Figure size 432x288 with 1 Axes>"
      ]
     },
     "metadata": {
      "needs_background": "light"
     },
     "output_type": "display_data"
    }
   ],
   "source": [
    "plt.scatter(y_pred, y_test)\n",
    "plt.xlabel('y_pred')\n",
    "plt.ylabel('y_test')\n",
    "plt.show"
   ]
  },
  {
   "cell_type": "code",
   "execution_count": 15,
   "metadata": {},
   "outputs": [],
   "source": [
    "# weights_path = \"weights\"\n",
    "\n",
    "# old_name = os.listdir(weights_path)[len(os.listdir(weights_path))-1]\n",
    "\n",
    "# acc_val = str((history.history['accuracy'])[len(history.history['accuracy'])-1])[2:5]\n",
    "# valacc_val = str((history.history['val_accuracy'])[len(history.history['val_accuracy'])-1])[2:5]\n",
    "# new_name = 'weights_acc%s_val%s_ep%s' % (acc_val, valacc_val, epochs) + '.h5'\n",
    "\n",
    "# old_file = os.path.join(weights_path, old_name)\n",
    "# new_file = os.path.join(weights_path, new_name)\n",
    "# print(old_file, new_file)\n",
    "# os.rename(old_file, new_file)"
   ]
  },
  {
   "cell_type": "code",
   "execution_count": 16,
   "metadata": {},
   "outputs": [
    {
     "data": {
      "text/plain": [
       "Text(0.5, 1.0, 'Accuracy')"
      ]
     },
     "execution_count": 16,
     "metadata": {},
     "output_type": "execute_result"
    },
    {
     "data": {
      "image/png": "[encoded data removed]",
      "text/plain": [
       "<Figure size 432x288 with 1 Axes>"
      ]
     },
     "metadata": {
      "needs_background": "light"
     },
     "output_type": "display_data"
    },
    {
     "data": {
      "image/png": "[encoded data removed]",
      "text/plain": [
       "<Figure size 432x288 with 1 Axes>"
      ]
     },
     "metadata": {
      "needs_background": "light"
     },
     "output_type": "display_data"
    }
   ],
   "source": [
    "loss = history.history['loss']\n",
    "val_loss = history.history['val_loss']\n",
    "acc = history.history['accuracy']\n",
    "val_acc = history.history['val_accuracy']\n",
    "\n",
    "plt.figure(1)\n",
    "plt.plot(loss)\n",
    "plt.plot(val_loss)\n",
    "plt.ylabel('loss')\n",
    "plt.xlabel('epoch')\n",
    "plt.legend(['train', 'test'], loc='best')\n",
    "plt.title('Loss')\n",
    "\n",
    "plt.figure(2)\n",
    "plt.plot(acc)\n",
    "plt.plot(val_acc)\n",
    "plt.ylabel('accuracy')\n",
    "plt.xlabel('epoch')\n",
    "plt.legend(['train', 'test'], loc='best')\n",
    "plt.title('Accuracy')"
   ]
  },
  {
   "cell_type": "code",
   "execution_count": null,
   "metadata": {},
   "outputs": [],
   "source": []
  }
 ],
 "metadata": {
  "kernelspec": {
   "display_name": "Python 3",
   "language": "python",
   "name": "python3"
  },
  "language_info": {
   "codemirror_mode": {
    "name": "ipython",
    "version": 3
   },
   "file_extension": ".py",
   "mimetype": "text/x-python",
   "name": "python",
   "nbconvert_exporter": "python",
   "pygments_lexer": "ipython3",
   "version": "3.7.4"
  }
 },
 "nbformat": 4,
 "nbformat_minor": 4
}
